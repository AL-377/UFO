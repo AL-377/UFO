{
 "cells": [
  {
   "cell_type": "code",
   "execution_count": 1,
   "metadata": {},
   "outputs": [],
   "source": [
    "import json\n",
    "import glob\n",
    "import os\n",
    "import matplotlib.pyplot as plt"
   ]
  },
  {
   "cell_type": "code",
   "execution_count": 7,
   "metadata": {},
   "outputs": [
    {
     "name": "stdout",
     "output_type": "stream",
     "text": [
      "Total tasks: 118\n",
      "{'0': 'yes', '1': 'yes', '10': 'yes', '100': 'no', '101': 'no', '102': 'unsure', '103': 'yes', '104': 'unsure', '105': 'yes', '106': 'yes', '107': 'unsure', '108': 'no', '109': 'no', '11': 'yes', '110': 'yes', '111': 'yes', '112': 'yes', '113': 'yes', '114': 'yes', '115': 'yes', '116': 'no', '117': 'yes', '118': 'yes', '119': 'no', '12': 'yes', '120': 'yes', '121': 'no', '122': 'unsure', '123': 'unsure', '124': 'no', '13': 'yes', '14': 'no', '15': 'unsure', '16': 'yes', '17': 'yes', '18': 'no', '19': 'no', '2': 'yes', '20': 'yes', '21': 'yes', '22': 'yes', '23': 'no', '24': 'yes', '25': 'yes', '26': 'yes', '27': 'yes', '28': 'yes', '29': 'yes', '30': 'no', '31': 'no', '32': 'yes', '33': 'unsure', '34': 'yes', '35': 'yes', '36': 'yes', '37': 'yes', '38': 'no', '39': 'yes', '40': 'yes', '41': 'yes', '42': 'yes', '43': 'no', '44': 'yes', '45': 'yes', '46': 'no', '47': 'yes', '48': 'yes', '49': 'unsure', '50': 'unsure', '51': 'unsure', '52': 'unsure', '53': 'no', '54': 'yes', '55': 'yes', '56': 'yes', '57': 'yes', '58': 'yes', '59': 'no', '60': 'yes', '61': 'yes', '62': 'no', '63': 'yes', '64': 'no', '65': 'yes', '66': 'yes', '67': 'yes', '68': 'yes', '69': 'yes', '70': 'no', '71': 'yes', '72': 'yes', '73': 'yes', '74': 'yes', '75': 'no', '76': 'yes', '77': 'yes', '78': 'yes', '79': 'no', '80': 'unsure', '81': 'yes', '82': 'yes', '83': 'yes', '84': 'no', '85': 'yes', '86': 'yes', '87': 'yes', '88': 'yes', '89': 'yes', '90': 'yes', '91': 'no', '92': 'no', '93': 'no', '94': 'yes', '95': 'no', '96': 'no', '97': 'yes', '98': 'yes', '99': 'unsure'}\n",
      "Res Cnts:\n",
      "{'yes': 75, 'no': 30, 'unsure': 13}\n",
      "Success Rate:\n",
      "0.635593220338983\n",
      "Steps Distribution:\n",
      "{'yes': {'4': 4, '1': 6, '2': 39, '3': 26}, 'no': {'3': 18, '1': 3, '4': 5, '2': 3, '9': 1}, 'unsure': {'1': 9, '3': 4}}\n"
     ]
    }
   ],
   "source": [
    "# evaluate results\n",
    "offline_evals=[r\"logs\\2024-08-06-09-16-59-REVIEW46\",r\"logs\\2024-08-06-09-22-19-REVIEW37\",r\"logs\\2024-08-06-09-26-23-REVIEW35\"]\n",
    "raw_log_dir = r\"D:\\UFO\\logs\\2024-08-06-online-118\"\n",
    "task_res={}\n",
    "cnt_res={}\n",
    "step_cnts = {\"yes\":{},\"no\":{},\"unsure\":{}}\n",
    "\n",
    "for log_dir in offline_evals:\n",
    "    for eval_dir in glob.glob(log_dir+\"/*\"):\n",
    "        try:\n",
    "            eval_json = json.load(open(os.path.join(eval_dir,\"evaluation.log\")))\n",
    "            complete = eval_json.get(\"complete\")\n",
    "        except:\n",
    "            continue\n",
    "        # print(eval_dir)\n",
    "        cnt_res[complete] = cnt_res.get(complete,0) + 1\n",
    "        task_res[os.path.basename(eval_dir)] = complete\n",
    "        # locate the ori log\n",
    "        response_log = os.path.join(raw_log_dir,os.path.basename(eval_dir),\"response.log\")\n",
    "        steps = len(open(response_log,'r').readlines())\n",
    "        step_cnts[complete][str(steps)] = step_cnts[complete].get(str(steps),0) + 1\n",
    "\n",
    "print(f\"Total tasks: {len(task_res.keys())}\")\n",
    "print(task_res)\n",
    "print(f\"Res Cnts:\")\n",
    "print(cnt_res)\n",
    "print(f\"Success Rate:\")\n",
    "print(cnt_res[\"yes\"] / sum(cnt_res.values()))\n",
    "print(f\"Steps Distribution:\")\n",
    "print(step_cnts)"
   ]
  },
  {
   "cell_type": "code",
   "execution_count": null,
   "metadata": {},
   "outputs": [],
   "source": [
    "\n",
    "\n",
    "def plot(cnts:dict=None,title:str=\"\",keys:list=None,xlabel:str=\"\",ylabel:str=\"\"):\n",
    "    if cnts:\n",
    "        if keys:\n",
    "            values = [cnts[k] for k in keys]\n",
    "        else:\n",
    "            keys = list(cnts.keys())\n",
    "            values = list(cnts.values())\n",
    "    # Plotting the histogram with values on the bars\n",
    "    plt.figure(figsize=(30, 3))\n",
    "    bars = plt.bar(keys, values, color='skyblue', edgecolor='black')\n",
    "\n",
    "    # Adding value labels on top of each bar\n",
    "    for bar in bars:\n",
    "        height = bar.get_height()\n",
    "        plt.text(bar.get_x() + bar.get_width() / 2.0, height, str(height), ha='center', va='bottom')\n",
    "\n",
    "    plt.xlabel(xlabel)\n",
    "    plt.ylabel(ylabel)\n",
    "    plt.title(title)\n",
    "    plt.xticks(keys)  # Ensure all keys are shown on the x-axis\n",
    "    plt.grid(axis='y')\n",
    "\n",
    "    # Show the plot\n",
    "    plt.show()"
   ]
  }
 ],
 "metadata": {
  "kernelspec": {
   "display_name": "ufo",
   "language": "python",
   "name": "python3"
  },
  "language_info": {
   "codemirror_mode": {
    "name": "ipython",
    "version": 3
   },
   "file_extension": ".py",
   "mimetype": "text/x-python",
   "name": "python",
   "nbconvert_exporter": "python",
   "pygments_lexer": "ipython3",
   "version": "3.10.14"
  }
 },
 "nbformat": 4,
 "nbformat_minor": 2
}
